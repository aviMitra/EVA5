{
  "nbformat": 4,
  "nbformat_minor": 0,
  "metadata": {
    "colab": {
      "name": "EVA-Assignment3x.ipynb",
      "provenance": [],
      "authorship_tag": "ABX9TyP0hI1IvHELXG7rtr/JstNx",
      "include_colab_link": true
    },
    "kernelspec": {
      "name": "python3",
      "display_name": "Python 3"
    },
    "widgets": {
      "application/vnd.jupyter.widget-state+json": {
        "73da0d3474004d0c85ad1f80f73d6479": {
          "model_module": "@jupyter-widgets/controls",
          "model_name": "HBoxModel",
          "state": {
            "_view_name": "HBoxView",
            "_dom_classes": [],
            "_model_name": "HBoxModel",
            "_view_module": "@jupyter-widgets/controls",
            "_model_module_version": "1.5.0",
            "_view_count": null,
            "_view_module_version": "1.5.0",
            "box_style": "",
            "layout": "IPY_MODEL_d3b2fd34e1ec421aa1346838dcf48ea6",
            "_model_module": "@jupyter-widgets/controls",
            "children": [
              "IPY_MODEL_d3570614058f4f1cbb463fd5a295ca7e",
              "IPY_MODEL_d0707f5bb62e4230aa4dc1a16505301d"
            ]
          }
        },
        "d3b2fd34e1ec421aa1346838dcf48ea6": {
          "model_module": "@jupyter-widgets/base",
          "model_name": "LayoutModel",
          "state": {
            "_view_name": "LayoutView",
            "grid_template_rows": null,
            "right": null,
            "justify_content": null,
            "_view_module": "@jupyter-widgets/base",
            "overflow": null,
            "_model_module_version": "1.2.0",
            "_view_count": null,
            "flex_flow": null,
            "width": null,
            "min_width": null,
            "border": null,
            "align_items": null,
            "bottom": null,
            "_model_module": "@jupyter-widgets/base",
            "top": null,
            "grid_column": null,
            "overflow_y": null,
            "overflow_x": null,
            "grid_auto_flow": null,
            "grid_area": null,
            "grid_template_columns": null,
            "flex": null,
            "_model_name": "LayoutModel",
            "justify_items": null,
            "grid_row": null,
            "max_height": null,
            "align_content": null,
            "visibility": null,
            "align_self": null,
            "height": null,
            "min_height": null,
            "padding": null,
            "grid_auto_rows": null,
            "grid_gap": null,
            "max_width": null,
            "order": null,
            "_view_module_version": "1.2.0",
            "grid_template_areas": null,
            "object_position": null,
            "object_fit": null,
            "grid_auto_columns": null,
            "margin": null,
            "display": null,
            "left": null
          }
        },
        "d3570614058f4f1cbb463fd5a295ca7e": {
          "model_module": "@jupyter-widgets/controls",
          "model_name": "FloatProgressModel",
          "state": {
            "_view_name": "ProgressView",
            "style": "IPY_MODEL_0dc9c134f4a54fc6be51908dca2c8970",
            "_dom_classes": [],
            "description": "",
            "_model_name": "FloatProgressModel",
            "bar_style": "info",
            "max": 1,
            "_view_module": "@jupyter-widgets/controls",
            "_model_module_version": "1.5.0",
            "value": 1,
            "_view_count": null,
            "_view_module_version": "1.5.0",
            "orientation": "horizontal",
            "min": 0,
            "description_tooltip": null,
            "_model_module": "@jupyter-widgets/controls",
            "layout": "IPY_MODEL_8ee343c580354e0689444f39abefde5b"
          }
        },
        "d0707f5bb62e4230aa4dc1a16505301d": {
          "model_module": "@jupyter-widgets/controls",
          "model_name": "HTMLModel",
          "state": {
            "_view_name": "HTMLView",
            "style": "IPY_MODEL_98b49e9b0ea14ff6b6448103b9d97efa",
            "_dom_classes": [],
            "description": "",
            "_model_name": "HTMLModel",
            "placeholder": "​",
            "_view_module": "@jupyter-widgets/controls",
            "_model_module_version": "1.5.0",
            "value": " 561758208/? [00:40&lt;00:00, 35524272.32it/s]",
            "_view_count": null,
            "_view_module_version": "1.5.0",
            "description_tooltip": null,
            "_model_module": "@jupyter-widgets/controls",
            "layout": "IPY_MODEL_0e54ff8c18194d5f9c9c9c71af3f613e"
          }
        },
        "0dc9c134f4a54fc6be51908dca2c8970": {
          "model_module": "@jupyter-widgets/controls",
          "model_name": "ProgressStyleModel",
          "state": {
            "_view_name": "StyleView",
            "_model_name": "ProgressStyleModel",
            "description_width": "initial",
            "_view_module": "@jupyter-widgets/base",
            "_model_module_version": "1.5.0",
            "_view_count": null,
            "_view_module_version": "1.2.0",
            "bar_color": null,
            "_model_module": "@jupyter-widgets/controls"
          }
        },
        "8ee343c580354e0689444f39abefde5b": {
          "model_module": "@jupyter-widgets/base",
          "model_name": "LayoutModel",
          "state": {
            "_view_name": "LayoutView",
            "grid_template_rows": null,
            "right": null,
            "justify_content": null,
            "_view_module": "@jupyter-widgets/base",
            "overflow": null,
            "_model_module_version": "1.2.0",
            "_view_count": null,
            "flex_flow": null,
            "width": null,
            "min_width": null,
            "border": null,
            "align_items": null,
            "bottom": null,
            "_model_module": "@jupyter-widgets/base",
            "top": null,
            "grid_column": null,
            "overflow_y": null,
            "overflow_x": null,
            "grid_auto_flow": null,
            "grid_area": null,
            "grid_template_columns": null,
            "flex": null,
            "_model_name": "LayoutModel",
            "justify_items": null,
            "grid_row": null,
            "max_height": null,
            "align_content": null,
            "visibility": null,
            "align_self": null,
            "height": null,
            "min_height": null,
            "padding": null,
            "grid_auto_rows": null,
            "grid_gap": null,
            "max_width": null,
            "order": null,
            "_view_module_version": "1.2.0",
            "grid_template_areas": null,
            "object_position": null,
            "object_fit": null,
            "grid_auto_columns": null,
            "margin": null,
            "display": null,
            "left": null
          }
        },
        "98b49e9b0ea14ff6b6448103b9d97efa": {
          "model_module": "@jupyter-widgets/controls",
          "model_name": "DescriptionStyleModel",
          "state": {
            "_view_name": "StyleView",
            "_model_name": "DescriptionStyleModel",
            "description_width": "",
            "_view_module": "@jupyter-widgets/base",
            "_model_module_version": "1.5.0",
            "_view_count": null,
            "_view_module_version": "1.2.0",
            "_model_module": "@jupyter-widgets/controls"
          }
        },
        "0e54ff8c18194d5f9c9c9c71af3f613e": {
          "model_module": "@jupyter-widgets/base",
          "model_name": "LayoutModel",
          "state": {
            "_view_name": "LayoutView",
            "grid_template_rows": null,
            "right": null,
            "justify_content": null,
            "_view_module": "@jupyter-widgets/base",
            "overflow": null,
            "_model_module_version": "1.2.0",
            "_view_count": null,
            "flex_flow": null,
            "width": null,
            "min_width": null,
            "border": null,
            "align_items": null,
            "bottom": null,
            "_model_module": "@jupyter-widgets/base",
            "top": null,
            "grid_column": null,
            "overflow_y": null,
            "overflow_x": null,
            "grid_auto_flow": null,
            "grid_area": null,
            "grid_template_columns": null,
            "flex": null,
            "_model_name": "LayoutModel",
            "justify_items": null,
            "grid_row": null,
            "max_height": null,
            "align_content": null,
            "visibility": null,
            "align_self": null,
            "height": null,
            "min_height": null,
            "padding": null,
            "grid_auto_rows": null,
            "grid_gap": null,
            "max_width": null,
            "order": null,
            "_view_module_version": "1.2.0",
            "grid_template_areas": null,
            "object_position": null,
            "object_fit": null,
            "grid_auto_columns": null,
            "margin": null,
            "display": null,
            "left": null
          }
        }
      }
    },
    "accelerator": "GPU"
  },
  "cells": [
    {
      "cell_type": "markdown",
      "metadata": {
        "id": "view-in-github",
        "colab_type": "text"
      },
      "source": [
        "<a href=\"https://colab.research.google.com/github/aviMitra/EVA5/blob/main/Assignment%203x%20Runs/EVA_Assignment3x.ipynb\" target=\"_parent\"><img src=\"https://colab.research.google.com/assets/colab-badge.svg\" alt=\"Open In Colab\"/></a>"
      ]
    },
    {
      "cell_type": "markdown",
      "metadata": {
        "id": "7goixGGOhZ9k"
      },
      "source": [
        "<h1>Assignment 3x: EMNIST Neural Network \n",
        "\n",
        "Make a network that has:\n",
        "<ul>\n",
        "<li>6 Convolution layers with these kernels (10, 10, 20, 20, 30)\n",
        "<li>no fully connected layer (you probably may have to use the Global Average Pooling layer)\n",
        "<li>uses EMNIST as the dataset\n",
        "<li>uses a maximum of 2 max-pooling layers\n",
        "</ul>\n",
        "\n",
        "Your code MUST be:\n",
        "<ul>\n",
        "<li>well documented\n",
        "<li>must mention the receptive field calculations (as we discussed in the class)\n",
        "<li>must mention the input and output size for each layer\n",
        "<li>must be trained for minimum of 20 epochs\n",
        "<li>training MUST happen on the GPU\n",
        "<li>Once done, upload the code with training logs from colab to GitHub, and share the GitHub link"
      ]
    },
    {
      "cell_type": "markdown",
      "metadata": {
        "id": "qPutxZa3iYy0"
      },
      "source": [
        "<h2>Steps :\n",
        "\n",
        "<ul>\n",
        "<li>Prepare the data\n",
        "<li>Build the model\n",
        "<li>Train the model\n",
        "<li>Analyze the model"
      ]
    },
    {
      "cell_type": "markdown",
      "metadata": {
        "id": "czsXOh01ioje"
      },
      "source": [
        " <h1>STEP 1: Prepare the Data\n",
        "\n",
        "---\n",
        "\n"
      ]
    },
    {
      "cell_type": "code",
      "metadata": {
        "id": "L3eyQBDHiOoN"
      },
      "source": [
        "import torch\n",
        "import numpy as np\n",
        "import torchvision # provide access to datasets, models, transforms, utils, etc\n",
        "import matplotlib.pyplot as plt\n",
        "import torchvision.transforms as transforms"
      ],
      "execution_count": 1,
      "outputs": []
    },
    {
      "cell_type": "code",
      "metadata": {
        "colab": {
          "base_uri": "https://localhost:8080/",
          "height": 273,
          "referenced_widgets": [
            "73da0d3474004d0c85ad1f80f73d6479",
            "d3b2fd34e1ec421aa1346838dcf48ea6",
            "d3570614058f4f1cbb463fd5a295ca7e",
            "d0707f5bb62e4230aa4dc1a16505301d",
            "0dc9c134f4a54fc6be51908dca2c8970",
            "8ee343c580354e0689444f39abefde5b",
            "98b49e9b0ea14ff6b6448103b9d97efa",
            "0e54ff8c18194d5f9c9c9c71af3f613e"
          ]
        },
        "id": "Ft59sWfSjFQn",
        "outputId": "2b2a8ba1-c777-4fb2-97e5-1d0d4689e6c9"
      },
      "source": [
        "# now let's work with EMNIST\n",
        "\n",
        "train_set = torchvision.datasets.EMNIST(\n",
        "    root='./data'\n",
        "    ,train=True\n",
        "    ,download=True\n",
        "    ,transform=transforms.Compose([\n",
        "        transforms.ToTensor()\n",
        "    ]),\n",
        "    split='byclass'\n",
        ")"
      ],
      "execution_count": 2,
      "outputs": [
        {
          "output_type": "stream",
          "text": [
            "Downloading and extracting zip archive\n",
            "Downloading http://www.itl.nist.gov/iaui/vip/cs_links/EMNIST/gzip.zip to ./data/EMNIST/raw/emnist.zip\n"
          ],
          "name": "stdout"
        },
        {
          "output_type": "display_data",
          "data": {
            "application/vnd.jupyter.widget-view+json": {
              "model_id": "73da0d3474004d0c85ad1f80f73d6479",
              "version_minor": 0,
              "version_major": 2
            },
            "text/plain": [
              "HBox(children=(FloatProgress(value=1.0, bar_style='info', max=1.0), HTML(value='')))"
            ]
          },
          "metadata": {
            "tags": []
          }
        },
        {
          "output_type": "stream",
          "text": [
            "Extracting ./data/EMNIST/raw/emnist.zip to ./data/EMNIST/raw\n",
            "Processing byclass\n"
          ],
          "name": "stdout"
        },
        {
          "output_type": "stream",
          "text": [
            "/usr/local/lib/python3.6/dist-packages/torchvision/datasets/mnist.py:480: UserWarning: The given NumPy array is not writeable, and PyTorch does not support non-writeable tensors. This means you can write to the underlying (supposedly non-writeable) NumPy array using the tensor. You may want to copy the array to protect its data or make it writeable before converting it to a tensor. This type of warning will be suppressed for the rest of this program. (Triggered internally at  /pytorch/torch/csrc/utils/tensor_numpy.cpp:141.)\n",
            "  return torch.from_numpy(parsed.astype(m[2], copy=False)).view(*s)\n"
          ],
          "name": "stderr"
        },
        {
          "output_type": "stream",
          "text": [
            "Processing bymerge\n",
            "Processing balanced\n",
            "Processing letters\n",
            "Processing digits\n",
            "Processing mnist\n",
            "Done!\n"
          ],
          "name": "stdout"
        }
      ]
    },
    {
      "cell_type": "code",
      "metadata": {
        "id": "MalRDKSzjgrL"
      },
      "source": [
        "# Create an Iterator over the dataset\n",
        "train_loader = torch.utils.data.DataLoader(train_set \n",
        "          , batch_size = 20\n",
        "          , shuffle = True )"
      ],
      "execution_count": 3,
      "outputs": []
    },
    {
      "cell_type": "code",
      "metadata": {
        "colab": {
          "base_uri": "https://localhost:8080/",
          "height": 373
        },
        "id": "RPnJf1ZzkOxY",
        "outputId": "d6065f68-75c1-449c-86d4-67ea16a2bc96"
      },
      "source": [
        "print(train_set.train_labels.bincount())\n",
        "images, labels = next(iter(train_loader))\n",
        "grid = torchvision.utils.make_grid(images, nrow=20)\n",
        "plt.figure(figsize=(40,40))\n",
        "plt.imshow(np.transpose(grid, (1,2,0)))\n",
        "print('labels:', labels)\n",
        "print(images.shape)"
      ],
      "execution_count": 4,
      "outputs": [
        {
          "output_type": "stream",
          "text": [
            "/usr/local/lib/python3.6/dist-packages/torchvision/datasets/mnist.py:48: UserWarning: train_labels has been renamed targets\n",
            "  warnings.warn(\"train_labels has been renamed targets\")\n"
          ],
          "name": "stderr"
        },
        {
          "output_type": "stream",
          "text": [
            "tensor([34585, 38374, 34203, 35143, 33535, 31416, 34232, 35754, 33946, 33847,\n",
            "         6407,  3878, 10094,  4562,  4934,  9182,  2517,  3152, 11946,  3762,\n",
            "         2468,  5076,  9002,  8237, 24983,  8347,  2605,  5073, 20764,  9820,\n",
            "        12602,  4637,  4695,  2771,  4743,  2701, 10033,  5159,  2854, 10177,\n",
            "        24631,  2561,  3687,  8738,  2725,  1896,  2491, 15318,  2645, 11418,\n",
            "         2749,  2448,  2994, 14105,  2699, 18262,  2830,  2910,  2697,  2822,\n",
            "         2365,  2725])\n",
            "labels: tensor([ 5, 24,  6, 15, 52, 40,  0, 24,  8, 47,  1, 24, 40,  7, 36, 37,  5, 25,\n",
            "         1,  2])\n",
            "torch.Size([20, 1, 28, 28])\n"
          ],
          "name": "stdout"
        },
        {
          "output_type": "display_data",
          "data": {
            "image/png": "[encoded data removed]",
            "text/plain": [
              "<Figure size 2880x2880 with 1 Axes>"
            ]
          },
          "metadata": {
            "tags": [],
            "needs_background": "light"
          }
        }
      ]
    },
    {
      "cell_type": "markdown",
      "metadata": {
        "id": "ZtE0umjkncfN"
      },
      "source": [
        " <h1>STEP 2: Build the model\n",
        " \n",
        "---\n"
      ]
    },
    {
      "cell_type": "code",
      "metadata": {
        "id": "QAER-SlRnl7M"
      },
      "source": [
        "import torch.nn as nn\n",
        "import torch.nn.functional as F\n",
        "class Network(nn.Module):\n",
        "    def __init__(self):\n",
        "        super().__init__()\n",
        "        self.conv1 = nn.Conv2d(in_channels=1, out_channels=10, kernel_size=3)   # I: 1x28x28  O: 10x26x26   \n",
        "        self.conv2 = nn.Conv2d(in_channels=10, out_channels=10, kernel_size=3)  # I: 10x26x26 O: 10x24x24\n",
        "        \n",
        "        self.conv3 = nn.Conv2d(in_channels=10, out_channels=20, kernel_size=3)   # I: 10x12x12 O: 20x10x10\n",
        "        self.conv4 = nn.Conv2d(in_channels=20, out_channels=20, kernel_size=3)  # I: 20x10x10 O: 20x8x8\n",
        "        \n",
        "        self.conv5 = nn.Conv2d(in_channels=20, out_channels=30, kernel_size=3)   # I: 20x4x4   O: 30x2x2\n",
        "        self.conv6 = nn.Conv2d(in_channels=30, out_channels=100, kernel_size=1)  # I: 30x2x2   O: 100x2x2\n",
        "        \n",
        "        self.out = nn.AvgPool2d(2,2)\n",
        "\n",
        "    def forward(self, t):\n",
        "        # (1) input layer\n",
        "        t = t\n",
        "\n",
        "        # (2) hidden conv layer\n",
        "        t = self.conv1(t)\n",
        "        t = F.relu(t)\n",
        "\n",
        "        # (3) hidden conv layer\n",
        "        t = self.conv2(t)\n",
        "        t = F.relu(t)\n",
        "        \n",
        "        # max Pooling after conv1 and conv2\n",
        "        t = F.max_pool2d(t, kernel_size=2, stride=2)\n",
        "\n",
        "        # (4) hidden conv layer\n",
        "        t = self.conv3(t)\n",
        "        t = F.relu(t)\n",
        "\n",
        "        # (5) hidden conv layer\n",
        "        t = self.conv4(t)\n",
        "        t = F.relu(t)\n",
        "        \n",
        "        # max Pooling after conv3 and conv4\n",
        "        t = F.max_pool2d(t, kernel_size=2, stride=2)\n",
        "\n",
        "        # (6) hidden conv layer\n",
        "        t = self.conv5(t)\n",
        "        t = F.relu(t)\n",
        "\n",
        "        # (7) hidden conv 1x1 layer (ANTMAN to reduce channels from 30 to 10)\n",
        "        t = self.conv6(t)\n",
        "        \n",
        "        # (8) Global Average Pooling\n",
        "        t = self.out(t)\n",
        "        t = torch.squeeze(t)\n",
        "        return t"
      ],
      "execution_count": 101,
      "outputs": []
    },
    {
      "cell_type": "code",
      "metadata": {
        "colab": {
          "base_uri": "https://localhost:8080/"
        },
        "id": "bSn2On_iXU02",
        "outputId": "11047b54-c215-4b93-8164-81761ffbd064"
      },
      "source": [
        "!pip install torchsummary\n",
        "from torchsummary import summary\n",
        "use_cuda = torch.cuda.is_available()\n",
        "device = torch.device(\"cuda\" if use_cuda else \"cpu\")\n",
        "print('device is', use_cuda)\n",
        "network = Network().to(device)\n",
        "summary(network, input_size=(1, 28, 28))"
      ],
      "execution_count": 108,
      "outputs": [
        {
          "output_type": "stream",
          "text": [
            "Requirement already satisfied: torchsummary in /usr/local/lib/python3.6/dist-packages (1.5.1)\n",
            "device is True\n",
            "----------------------------------------------------------------\n",
            "        Layer (type)               Output Shape         Param #\n",
            "================================================================\n",
            "            Conv2d-1           [-1, 10, 26, 26]             100\n",
            "            Conv2d-2           [-1, 10, 24, 24]             910\n",
            "            Conv2d-3           [-1, 20, 10, 10]           1,820\n",
            "            Conv2d-4             [-1, 20, 8, 8]           3,620\n",
            "            Conv2d-5             [-1, 30, 2, 2]           5,430\n",
            "            Conv2d-6            [-1, 100, 2, 2]           3,100\n",
            "         AvgPool2d-7            [-1, 100, 1, 1]               0\n",
            "================================================================\n",
            "Total params: 14,980\n",
            "Trainable params: 14,980\n",
            "Non-trainable params: 0\n",
            "----------------------------------------------------------------\n",
            "Input size (MB): 0.00\n",
            "Forward/backward pass size (MB): 0.13\n",
            "Params size (MB): 0.06\n",
            "Estimated Total Size (MB): 0.19\n",
            "----------------------------------------------------------------\n"
          ],
          "name": "stdout"
        }
      ]
    },
    {
      "cell_type": "markdown",
      "metadata": {
        "id": "DnJDlJ6-14jD"
      },
      "source": [
        " <h1>STEP 3: Train the model\n",
        " \n",
        "---\n"
      ]
    },
    {
      "cell_type": "code",
      "metadata": {
        "id": "JrRynQNn1-l4",
        "colab": {
          "base_uri": "https://localhost:8080/"
        },
        "outputId": "b26c4d78-9219-4971-c7e4-ceb98cd581c2"
      },
      "source": [
        "import torch.optim as optim\n",
        "\n",
        "torch.set_grad_enabled(True)"
      ],
      "execution_count": 52,
      "outputs": [
        {
          "output_type": "execute_result",
          "data": {
            "text/plain": [
              "<torch.autograd.grad_mode.set_grad_enabled at 0x7f0035fb98d0>"
            ]
          },
          "metadata": {
            "tags": []
          },
          "execution_count": 52
        }
      ]
    },
    {
      "cell_type": "code",
      "metadata": {
        "id": "26oPZAbxjeTK"
      },
      "source": [
        "def get_num_correct(preds, labels):\n",
        "  return preds.argmax(dim=1).eq(labels).sum().item()"
      ],
      "execution_count": 104,
      "outputs": []
    },
    {
      "cell_type": "code",
      "metadata": {
        "id": "h8ZYaVun2O9J",
        "colab": {
          "base_uri": "https://localhost:8080/"
        },
        "outputId": "59b20005-b6fa-4517-83d9-16e0c49ce71c"
      },
      "source": [
        "train_loader = torch.utils.data.DataLoader(train_set, batch_size=100)\n",
        "optimizer = optim.Adam(network.parameters(), lr=0.01)\n",
        "\n",
        "for epoch in range(20):\n",
        "\n",
        "    total_loss = 0\n",
        "    total_correct = 0\n",
        "    print(\n",
        "        \"epoch\", epoch, \n",
        "        \"total_correct:\", total_correct, \n",
        "        \"loss:\", total_loss\n",
        "    )\n",
        "\n",
        "    for images, labels in train_loader:  # Get Batch\n",
        "        images, labels = images.to(device), labels.to(device)\n",
        "        preds = network(images) # Pass Batch\n",
        "        # preds = torch.squeeze(preds.int())\n",
        "\n",
        "        loss = F.cross_entropy(preds, labels) # Calculate Loss\n",
        "\n",
        "        optimizer.zero_grad()\n",
        "        loss.backward() # Calculate Gradients\n",
        "        optimizer.step() # Update Weights\n",
        "\n",
        "        total_loss += loss.item()\n",
        "        total_correct += get_num_correct(preds, labels)\n",
        "\n",
        "    print(\n",
        "        \"epoch\", epoch, \n",
        "        \"total_correct:\", total_correct, \n",
        "        \"loss:\", total_loss\n",
        "    )\n"
      ],
      "execution_count": 110,
      "outputs": [
        {
          "output_type": "stream",
          "text": [
            "epoch 0 total_correct: 0 loss: 0\n",
            "epoch 0 total_correct: 534391 loss: 5061.490548893809\n",
            "epoch 1 total_correct: 0 loss: 0\n",
            "epoch 1 total_correct: 558489 loss: 4142.094499975443\n",
            "epoch 2 total_correct: 0 loss: 0\n",
            "epoch 2 total_correct: 562311 loss: 4004.4318518191576\n",
            "epoch 3 total_correct: 0 loss: 0\n",
            "epoch 3 total_correct: 564022 loss: 3934.8901328593493\n",
            "epoch 4 total_correct: 0 loss: 0\n",
            "epoch 4 total_correct: 565682 loss: 3879.0365351736546\n",
            "epoch 5 total_correct: 0 loss: 0\n",
            "epoch 5 total_correct: 566621 loss: 3852.495453104377\n",
            "epoch 6 total_correct: 0 loss: 0\n",
            "epoch 6 total_correct: 566883 loss: 3832.6214144080877\n",
            "epoch 7 total_correct: 0 loss: 0\n",
            "epoch 7 total_correct: 566929 loss: 3834.8807761222124\n",
            "epoch 8 total_correct: 0 loss: 0\n",
            "epoch 8 total_correct: 567285 loss: 3822.1638595461845\n",
            "epoch 9 total_correct: 0 loss: 0\n",
            "epoch 9 total_correct: 567502 loss: 3827.147940069437\n",
            "epoch 10 total_correct: 0 loss: 0\n",
            "epoch 10 total_correct: 567863 loss: 3818.7956908792257\n",
            "epoch 11 total_correct: 0 loss: 0\n",
            "epoch 11 total_correct: 567780 loss: 3817.2704772651196\n",
            "epoch 12 total_correct: 0 loss: 0\n",
            "epoch 12 total_correct: 568506 loss: 3795.054954096675\n",
            "epoch 13 total_correct: 0 loss: 0\n",
            "epoch 13 total_correct: 568632 loss: 3785.717524394393\n",
            "epoch 14 total_correct: 0 loss: 0\n",
            "epoch 14 total_correct: 568892 loss: 3783.886682137847\n",
            "epoch 15 total_correct: 0 loss: 0\n",
            "epoch 15 total_correct: 568947 loss: 3777.0329876095057\n",
            "epoch 16 total_correct: 0 loss: 0\n",
            "epoch 16 total_correct: 569182 loss: 3773.591582387686\n",
            "epoch 17 total_correct: 0 loss: 0\n",
            "epoch 17 total_correct: 569237 loss: 3770.552413135767\n",
            "epoch 18 total_correct: 0 loss: 0\n",
            "epoch 18 total_correct: 569196 loss: 3771.6016471534967\n",
            "epoch 19 total_correct: 0 loss: 0\n",
            "epoch 19 total_correct: 569202 loss: 3767.8405716717243\n"
          ],
          "name": "stdout"
        }
      ]
    }
  ]
}