{
  "nbformat": 4,
  "nbformat_minor": 0,
  "metadata": {
    "colab": {
      "name": "Assignment 4 MNIST Network 1.ipynb",
      "provenance": [],
      "include_colab_link": true
    },
    "kernelspec": {
      "name": "python3",
      "display_name": "Python 3"
    },
    "accelerator": "GPU"
  },
  "cells": [
    {
      "cell_type": "markdown",
      "metadata": {
        "id": "view-in-github",
        "colab_type": "text"
      },
      "source": [
        "<a href=\"https://colab.research.google.com/github/aviMitra/EVA5/blob/main/Assignment%204/Assignment_4_MNIST_Network_1.ipynb\" target=\"_parent\"><img src=\"https://colab.research.google.com/assets/colab-badge.svg\" alt=\"Open In Colab\"/></a>"
      ]
    },
    {
      "cell_type": "code",
      "metadata": {
        "id": "0m2JWFliFfKT"
      },
      "source": [
        "from __future__ import print_function\n",
        "import torch\n",
        "import torch.nn as nn\n",
        "import torch.nn.functional as F\n",
        "import torch.optim as optim\n",
        "from torchvision import datasets, transforms"
      ],
      "execution_count": 1,
      "outputs": []
    },
    {
      "cell_type": "code",
      "metadata": {
        "id": "h_Cx9q2QFgM7"
      },
      "source": [
        "class Net(nn.Module):\n",
        "    def __init__(self):\n",
        "        super(Net, self).__init__()\n",
        "        set_bias = False\n",
        "        dropout = 0.15\n",
        "        #Block 1\n",
        "        self.conv1 = nn.Conv2d(1, 18, 3, bias=set_bias)   # 1x28x28  -> 18x26x26, RF: 3\n",
        "        self.batch1 = nn.BatchNorm2d(18)\n",
        "        self.drop1 = nn.Dropout2d(dropout)\n",
        "        self.conv2 = nn.Conv2d(18, 36, 3, bias=set_bias)  # 18x26x26 -> 36x24x24, RF: 5\n",
        "        self.batch2 = nn.BatchNorm2d(36)\n",
        "        self.drop2 = nn.Dropout2d(dropout)\n",
        "\n",
        "        self.pool1 = nn.MaxPool2d(2, 2)                   # 36x24x24 -> 36x12x12, RF: 10\n",
        "        self.ant1 = nn.Conv2d(36, 20, 1, bias=set_bias)   # 36x12x12 -> 20x12x12, RF: 10 \n",
        "        \n",
        "        # Block 2\n",
        "        self.conv3 = nn.Conv2d(20, 35, 3, bias=set_bias)  # 20x12x12 -> 35x10x10, RF: 12\n",
        "        self.batch4 = nn.BatchNorm2d(35)\n",
        "        self.drop4 = nn.Dropout2d(dropout)\n",
        "        self.pool2 = nn.MaxPool2d(2, 2)                   # 35x10x10 -> 35x5x5,   RF: 24\n",
        "        self.ant2 = nn.Conv2d(35, 20, 1, bias=set_bias)   # 35x5x5   -> 20x5x5,   RF: 24\n",
        "\n",
        "        # Block 3\n",
        "        self.conv5 = nn.Conv2d(20, 32, 3, bias=set_bias)  # 20x5x5   -> 32x3x3  , RF: 26\n",
        "        self.ant3 = nn.Conv2d(32, 10, 1, bias=set_bias)   # 32x3x3   -> 10x3x3  , RF: 26\n",
        "        self.out = nn.AvgPool2d(3,3)\n",
        "\n",
        "    def forward(self, x):\n",
        "        # Block 1\n",
        "        x = self.drop1(self.batch1(F.relu(self.conv1(x))))\n",
        "        x = self.drop2(self.batch2(F.relu(self.conv2(x))))\n",
        "        x = self.ant1(self.pool1(x))\n",
        "\n",
        "        # Block 2\n",
        "        x = self.drop4(self.batch4(F.relu(self.conv3(x))))\n",
        "        x = self.ant2(self.pool2(x))\n",
        "\n",
        "        # Block 3\n",
        "        x = self.ant3(self.conv5(x))\n",
        "        x = self.out(x)\n",
        "        x = x.view(-1, 10)\n",
        "        return F.log_softmax(x, dim=1)"
      ],
      "execution_count": 40,
      "outputs": []
    },
    {
      "cell_type": "code",
      "metadata": {
        "id": "xdydjYTZFyi3",
        "colab": {
          "base_uri": "https://localhost:8080/"
        },
        "outputId": "6b647012-1b11-42b6-cfa7-46de858d9f44"
      },
      "source": [
        "!pip install torchsummary\n",
        "from torchsummary import summary\n",
        "use_cuda = torch.cuda.is_available()\n",
        "device = torch.device(\"cuda\" if use_cuda else \"cpu\")\n",
        "model = Net().to(device)\n",
        "summary(model, input_size=(1, 28, 28))"
      ],
      "execution_count": 41,
      "outputs": [
        {
          "output_type": "stream",
          "text": [
            "Requirement already satisfied: torchsummary in /usr/local/lib/python3.6/dist-packages (1.5.1)\n",
            "----------------------------------------------------------------\n",
            "        Layer (type)               Output Shape         Param #\n",
            "================================================================\n",
            "            Conv2d-1           [-1, 18, 26, 26]             162\n",
            "       BatchNorm2d-2           [-1, 18, 26, 26]              36\n",
            "         Dropout2d-3           [-1, 18, 26, 26]               0\n",
            "            Conv2d-4           [-1, 36, 24, 24]           5,832\n",
            "       BatchNorm2d-5           [-1, 36, 24, 24]              72\n",
            "         Dropout2d-6           [-1, 36, 24, 24]               0\n",
            "         MaxPool2d-7           [-1, 36, 12, 12]               0\n",
            "            Conv2d-8           [-1, 20, 12, 12]             720\n",
            "            Conv2d-9           [-1, 35, 10, 10]           6,300\n",
            "      BatchNorm2d-10           [-1, 35, 10, 10]              70\n",
            "        Dropout2d-11           [-1, 35, 10, 10]               0\n",
            "        MaxPool2d-12             [-1, 35, 5, 5]               0\n",
            "           Conv2d-13             [-1, 20, 5, 5]             700\n",
            "           Conv2d-14             [-1, 32, 3, 3]           5,760\n",
            "           Conv2d-15             [-1, 10, 3, 3]             320\n",
            "        AvgPool2d-16             [-1, 10, 1, 1]               0\n",
            "================================================================\n",
            "Total params: 19,972\n",
            "Trainable params: 19,972\n",
            "Non-trainable params: 0\n",
            "----------------------------------------------------------------\n",
            "Input size (MB): 0.00\n",
            "Forward/backward pass size (MB): 0.91\n",
            "Params size (MB): 0.08\n",
            "Estimated Total Size (MB): 0.99\n",
            "----------------------------------------------------------------\n"
          ],
          "name": "stdout"
        }
      ]
    },
    {
      "cell_type": "code",
      "metadata": {
        "id": "DqTWLaM5GHgH"
      },
      "source": [
        "\n",
        "\n",
        "torch.manual_seed(1)\n",
        "batch_size = 128\n",
        "\n",
        "kwargs = {'num_workers': 1, 'pin_memory': True} if use_cuda else {}\n",
        "train_loader = torch.utils.data.DataLoader(\n",
        "    datasets.MNIST('../data', train=True, download=True,\n",
        "                    transform=transforms.Compose([\n",
        "                        transforms.ToTensor(),\n",
        "                        transforms.Normalize((0.1307,), (0.3081,))\n",
        "                    ])),\n",
        "    batch_size=batch_size, shuffle=True, **kwargs)\n",
        "test_loader = torch.utils.data.DataLoader(\n",
        "    datasets.MNIST('../data', train=False, transform=transforms.Compose([\n",
        "                        transforms.ToTensor(),\n",
        "                        transforms.Normalize((0.1307,), (0.3081,))\n",
        "                    ])),\n",
        "    batch_size=batch_size, shuffle=True, **kwargs)\n"
      ],
      "execution_count": 42,
      "outputs": []
    },
    {
      "cell_type": "code",
      "metadata": {
        "id": "8fDefDhaFlwH"
      },
      "source": [
        "def train(model, device, train_loader, optimizer, epoch):\n",
        "    model.train()\n",
        "    for batch_idx, (data, target) in enumerate(train_loader):\n",
        "        data, target = data.to(device), target.to(device)\n",
        "        optimizer.zero_grad()\n",
        "        output = model(data)\n",
        "        loss = F.nll_loss(output, target)\n",
        "        loss.backward()\n",
        "        optimizer.step()\n",
        "\n",
        "\n",
        "def test(model, device, test_loader):\n",
        "    model.eval()\n",
        "    test_loss = 0\n",
        "    correct = 0\n",
        "    with torch.no_grad():\n",
        "        for data, target in test_loader:\n",
        "            data, target = data.to(device), target.to(device)\n",
        "            output = model(data)\n",
        "            test_loss += F.nll_loss(output, target, reduction='sum').item()  # sum up batch loss\n",
        "            pred = output.argmax(dim=1, keepdim=True)  # get the index of the max log-probability\n",
        "            correct += pred.eq(target.view_as(pred)).sum().item()\n",
        "\n",
        "    test_loss /= len(test_loader.dataset)\n",
        "\n",
        "    print('\\nTest set: Average loss: {:.4f}, Accuracy: {}/{} ({:.2f}%)\\n'.format(\n",
        "        test_loss, correct, len(test_loader.dataset),\n",
        "        100. * (correct / len(test_loader.dataset))))\n",
        "    return test_loss"
      ],
      "execution_count": 43,
      "outputs": []
    },
    {
      "cell_type": "code",
      "metadata": {
        "id": "MMWbLWO6FuHb",
        "colab": {
          "base_uri": "https://localhost:8080/"
        },
        "outputId": "1e079df0-39f0-4ca2-c87d-890cb1d7be33"
      },
      "source": [
        "\n",
        "model = Net().to(device)\n",
        "optimizer = optim.SGD(model.parameters(), lr=0.1, momentum=0.9)\n",
        "scheduler = optim.lr_scheduler.ReduceLROnPlateau(optimizer, verbose=True, patience=2)\n",
        "\n",
        "\n",
        "for epoch in range(19):\n",
        "    print('########################### Epoch No.: ', str(epoch+1), '######################################')\n",
        "    train(model, device, train_loader, optimizer, epoch)\n",
        "    loss = test(model, device, test_loader)\n",
        "    scheduler.step(loss)\n",
        "    print('Learning rate: ', optimizer.param_groups[0]['lr'])\n",
        "\n"
      ],
      "execution_count": 46,
      "outputs": [
        {
          "output_type": "stream",
          "text": [
            "########################### Epoch No.:  1 ######################################\n",
            "\n",
            "Test set: Average loss: 0.0696, Accuracy: 9776/10000 (97.76%)\n",
            "\n",
            "Learning rate:  0.1\n",
            "########################### Epoch No.:  2 ######################################\n",
            "\n",
            "Test set: Average loss: 0.0548, Accuracy: 9823/10000 (98.23%)\n",
            "\n",
            "Learning rate:  0.1\n",
            "########################### Epoch No.:  3 ######################################\n",
            "\n",
            "Test set: Average loss: 0.0407, Accuracy: 9873/10000 (98.73%)\n",
            "\n",
            "Learning rate:  0.1\n",
            "########################### Epoch No.:  4 ######################################\n",
            "\n",
            "Test set: Average loss: 0.0343, Accuracy: 9891/10000 (98.91%)\n",
            "\n",
            "Learning rate:  0.1\n",
            "########################### Epoch No.:  5 ######################################\n",
            "\n",
            "Test set: Average loss: 0.0433, Accuracy: 9843/10000 (98.43%)\n",
            "\n",
            "Learning rate:  0.1\n",
            "########################### Epoch No.:  6 ######################################\n",
            "\n",
            "Test set: Average loss: 0.0342, Accuracy: 9891/10000 (98.91%)\n",
            "\n",
            "Learning rate:  0.1\n",
            "########################### Epoch No.:  7 ######################################\n",
            "\n",
            "Test set: Average loss: 0.0454, Accuracy: 9866/10000 (98.66%)\n",
            "\n",
            "Learning rate:  0.1\n",
            "########################### Epoch No.:  8 ######################################\n",
            "\n",
            "Test set: Average loss: 0.0289, Accuracy: 9899/10000 (98.99%)\n",
            "\n",
            "Learning rate:  0.1\n",
            "########################### Epoch No.:  9 ######################################\n",
            "\n",
            "Test set: Average loss: 0.0311, Accuracy: 9898/10000 (98.98%)\n",
            "\n",
            "Learning rate:  0.1\n",
            "########################### Epoch No.:  10 ######################################\n",
            "\n",
            "Test set: Average loss: 0.0325, Accuracy: 9894/10000 (98.94%)\n",
            "\n",
            "Learning rate:  0.1\n",
            "########################### Epoch No.:  11 ######################################\n",
            "\n",
            "Test set: Average loss: 0.0273, Accuracy: 9916/10000 (99.16%)\n",
            "\n",
            "Learning rate:  0.1\n",
            "########################### Epoch No.:  12 ######################################\n",
            "\n",
            "Test set: Average loss: 0.0285, Accuracy: 9913/10000 (99.13%)\n",
            "\n",
            "Learning rate:  0.1\n",
            "########################### Epoch No.:  13 ######################################\n",
            "\n",
            "Test set: Average loss: 0.0291, Accuracy: 9913/10000 (99.13%)\n",
            "\n",
            "Learning rate:  0.1\n",
            "########################### Epoch No.:  14 ######################################\n",
            "\n",
            "Test set: Average loss: 0.0274, Accuracy: 9905/10000 (99.05%)\n",
            "\n",
            "Epoch    14: reducing learning rate of group 0 to 1.0000e-02.\n",
            "Learning rate:  0.010000000000000002\n",
            "########################### Epoch No.:  15 ######################################\n",
            "\n",
            "Test set: Average loss: 0.0184, Accuracy: 9943/10000 (99.43%)\n",
            "\n",
            "Learning rate:  0.010000000000000002\n",
            "########################### Epoch No.:  16 ######################################\n",
            "\n",
            "Test set: Average loss: 0.0176, Accuracy: 9937/10000 (99.37%)\n",
            "\n",
            "Learning rate:  0.010000000000000002\n",
            "########################### Epoch No.:  17 ######################################\n",
            "\n",
            "Test set: Average loss: 0.0170, Accuracy: 9942/10000 (99.42%)\n",
            "\n",
            "Learning rate:  0.010000000000000002\n",
            "########################### Epoch No.:  18 ######################################\n",
            "\n",
            "Test set: Average loss: 0.0180, Accuracy: 9945/10000 (99.45%)\n",
            "\n",
            "Learning rate:  0.010000000000000002\n",
            "########################### Epoch No.:  19 ######################################\n",
            "\n",
            "Test set: Average loss: 0.0164, Accuracy: 9946/10000 (99.46%)\n",
            "\n",
            "Learning rate:  0.010000000000000002\n"
          ],
          "name": "stdout"
        }
      ]
    },
    {
      "cell_type": "code",
      "metadata": {
        "id": "So5uk4EkHW6R"
      },
      "source": [
        ""
      ],
      "execution_count": null,
      "outputs": []
    }
  ]
}