{
  "nbformat": 4,
  "nbformat_minor": 0,
  "metadata": {
    "colab": {
      "name": "CODE 3: Image Augmentation.ipynb",
      "provenance": [],
      "collapsed_sections": [],
      "include_colab_link": true
    },
    "kernelspec": {
      "name": "python3",
      "display_name": "Python 3"
    },
    "accelerator": "GPU"
  },
  "cells": [
    {
      "cell_type": "markdown",
      "metadata": {
        "id": "view-in-github",
        "colab_type": "text"
      },
      "source": [
        "<a href=\"https://colab.research.google.com/github/aviMitra/EVA5/blob/main/Assignment%205/CODE_3_Image_Augmentation.ipynb\" target=\"_parent\"><img src=\"https://colab.research.google.com/assets/colab-badge.svg\" alt=\"Open In Colab\"/></a>"
      ]
    },
    {
      "cell_type": "markdown",
      "metadata": {
        "id": "5saWrbwJGmD2"
      },
      "source": [
        "##Target:\n",
        "\n",
        "\n",
        "*   The no. of parameters should be in range (less than 10K).\n",
        "*   Uses Image augmentation and Learning Rate Decay (On Plateau) in addition to the previous model.\n",
        "*   Get an accuracy more than 99.4% on at least last 4 epochs\n",
        "\n",
        "##Results:\n",
        "\n",
        "*   Parameters: 8.8K\n",
        "*   Best Train Accuracy: 99.15\n",
        "*   Best Test Accuracy: 99.48\n",
        "\n",
        "##Analysis:\n",
        "\n",
        "*   It is a fantastic model. The test Accuracy is higher than Training Accuracy, so we haven't seen overfitting yet\n",
        "*   The model has reached the target in last 6 epochs\n",
        "\n"
      ]
    },
    {
      "cell_type": "markdown",
      "metadata": {
        "id": "aO-7t1Y7-hV4"
      },
      "source": [
        "# Import Libraries"
      ]
    },
    {
      "cell_type": "code",
      "metadata": {
        "id": "8kH16rnZ7wt_"
      },
      "source": [
        "from __future__ import print_function\n",
        "import torch\n",
        "import torch.nn as nn\n",
        "import torch.nn.functional as F\n",
        "import torch.optim as optim\n",
        "from torchvision import datasets, transforms\n",
        "from PIL import Image"
      ],
      "execution_count": 1,
      "outputs": []
    },
    {
      "cell_type": "markdown",
      "metadata": {
        "id": "ky3f_Odl-7um"
      },
      "source": [
        "## Data Transformations\n",
        "\n",
        "We first start with defining our data transformations. We need to think what our data is and how can we augment it to correct represent images which it might not see otherwise. \n"
      ]
    },
    {
      "cell_type": "code",
      "metadata": {
        "id": "YtssFUKb-jqx"
      },
      "source": [
        "# Train Phase transformations\n",
        "train_transforms = transforms.Compose([\n",
        "                                      #  transforms.Resize((28, 28)),\n",
        "                                      #  transforms.ColorJitter(brightness=0.10, contrast=0.1, saturation=0.10, hue=0.1),\n",
        "                                       transforms.RandomRotation((-8.0, 8.0), fill=(1,)),\n",
        "                                       transforms.ToTensor(),\n",
        "                                       transforms.Normalize((0.1307,), (0.3081,)) # The mean and std have to be sequences (e.g., tuples), therefore you should add a comma after the values. \n",
        "                                       # Note the difference between (0.1307) and (0.1307,)\n",
        "                                       ])\n",
        "\n",
        "# Test Phase transformations\n",
        "test_transforms = transforms.Compose([\n",
        "                                      #  transforms.Resize((28, 28)),\n",
        "                                      #  transforms.ColorJitter(brightness=0.10, contrast=0.1, saturation=0.10, hue=0.1),\n",
        "                                       transforms.ToTensor(),\n",
        "                                       transforms.Normalize((0.1307,), (0.3081,))\n",
        "                                       ])\n"
      ],
      "execution_count": 12,
      "outputs": []
    },
    {
      "cell_type": "markdown",
      "metadata": {
        "id": "oQciFYo2B1mO"
      },
      "source": [
        "# Dataset and Creating Train/Test Split"
      ]
    },
    {
      "cell_type": "code",
      "metadata": {
        "id": "_4A84rlfDA23"
      },
      "source": [
        "train = datasets.MNIST('./data', train=True, download=True, transform=train_transforms)\n",
        "test = datasets.MNIST('./data', train=False, download=True, transform=test_transforms)"
      ],
      "execution_count": 13,
      "outputs": []
    },
    {
      "cell_type": "markdown",
      "metadata": {
        "id": "qgldp_3-Dn0c"
      },
      "source": [
        "# Dataloader Arguments & Test/Train Dataloaders\n"
      ]
    },
    {
      "cell_type": "code",
      "metadata": {
        "id": "C8OLDR79DrHG",
        "colab": {
          "base_uri": "https://localhost:8080/"
        },
        "outputId": "e7d30d28-d6ac-40d4-ce02-6b44f014db48"
      },
      "source": [
        "SEED = 1\n",
        "\n",
        "# CUDA?\n",
        "cuda = torch.cuda.is_available()\n",
        "print(\"CUDA Available?\", cuda)\n",
        "\n",
        "# For reproducibility\n",
        "torch.manual_seed(SEED)\n",
        "\n",
        "if cuda:\n",
        "    torch.cuda.manual_seed(SEED)\n",
        "\n",
        "# dataloader arguments - something you'll fetch these from cmdprmt\n",
        "dataloader_args = dict(shuffle=True, batch_size=128, num_workers=4, pin_memory=True) if cuda else dict(shuffle=True, batch_size=64)\n",
        "\n",
        "# train dataloader\n",
        "train_loader = torch.utils.data.DataLoader(train, **dataloader_args)\n",
        "\n",
        "# test dataloader\n",
        "test_loader = torch.utils.data.DataLoader(test, **dataloader_args)"
      ],
      "execution_count": 14,
      "outputs": [
        {
          "output_type": "stream",
          "text": [
            "CUDA Available? True\n"
          ],
          "name": "stdout"
        }
      ]
    },
    {
      "cell_type": "code",
      "metadata": {
        "id": "7FXQlB9kH1ov"
      },
      "source": [
        "class Net(nn.Module):\n",
        "    def __init__(self):\n",
        "        super(Net, self).__init__()\n",
        "        self.drop = 0.05\n",
        "        # Input Block\n",
        "        self.convblock1 = nn.Sequential(\n",
        "            nn.Conv2d(in_channels=1, out_channels=10, kernel_size=(3, 3), padding=0, bias=False),\n",
        "            nn.Dropout(self.drop),\n",
        "            nn.BatchNorm2d(10),\n",
        "            nn.ReLU()\n",
        "        ) # output_size = 26\n",
        "\n",
        "        # CONVOLUTION BLOCK 1\n",
        "        self.convblock2 = nn.Sequential(\n",
        "            nn.Conv2d(in_channels=10, out_channels=12, kernel_size=(3, 3), padding=0, bias=False),\n",
        "            nn.Dropout(self.drop),\n",
        "            nn.BatchNorm2d(12),\n",
        "            nn.ReLU()\n",
        "        ) # output_size = 24\n",
        "        self.convblock3 = nn.Sequential(\n",
        "            nn.Conv2d(in_channels=12, out_channels=10, kernel_size=(3, 3), padding=0, bias=False),\n",
        "            nn.Dropout(self.drop),\n",
        "            nn.BatchNorm2d(10),\n",
        "            nn.ReLU()\n",
        "        ) # output_size = 22\n",
        "\n",
        "        # TRANSITION BLOCK 1\n",
        "        self.pool1 = nn.MaxPool2d(2, 2) # output_size = 11\n",
        "        self.convblock4 = nn.Sequential(\n",
        "            nn.Conv2d(in_channels=10, out_channels=13, kernel_size=(1, 1), padding=0, bias=False),\n",
        "            nn.Dropout(self.drop),\n",
        "            nn.BatchNorm2d(13),\n",
        "            nn.ReLU()\n",
        "        ) # output_size = 11\n",
        "\n",
        "        # CONVOLUTION BLOCK 2\n",
        "        self.convblock5 = nn.Sequential(\n",
        "            nn.Conv2d(in_channels=13, out_channels=13, kernel_size=(3, 3), padding=0, bias=False),\n",
        "            nn.Dropout(self.drop),\n",
        "            nn.BatchNorm2d(13),\n",
        "            nn.ReLU()\n",
        "        ) # output_size = 9\n",
        "        self.convblock6 = nn.Sequential(\n",
        "            nn.Conv2d(in_channels=13, out_channels=10, kernel_size=(3, 3), padding=0, bias=False),\n",
        "            nn.Dropout(self.drop),\n",
        "            nn.BatchNorm2d(10),\n",
        "            nn.ReLU()\n",
        "        ) # output_size = 7\n",
        "\n",
        "        # OUTPUT BLOCK\n",
        "        self.convblock7 = nn.Sequential(\n",
        "            nn.Conv2d(in_channels=10, out_channels=20, kernel_size=(3, 3), padding=0, bias=False),\n",
        "            nn.Dropout(self.drop),\n",
        "            nn.BatchNorm2d(20),\n",
        "            nn.ReLU()\n",
        "        ) # output_size = 5\n",
        "\n",
        "        self.convblock8 = nn.Sequential(\n",
        "            nn.Conv2d(in_channels=20, out_channels=10, kernel_size=(3, 3), padding=0, bias=False),\n",
        "            nn.Dropout(self.drop),\n",
        "            nn.BatchNorm2d(10),\n",
        "            nn.ReLU()\n",
        "        ) # output_size = 3\n",
        "\n",
        "        self.gap = nn.Sequential(\n",
        "            nn.AvgPool2d(kernel_size=3)\n",
        "        ) # output_size = 1\n",
        "\n",
        "    def forward(self, x):\n",
        "        x = self.convblock1(x)\n",
        "        x = self.convblock2(x)\n",
        "        x = self.convblock3(x)\n",
        "        x = self.pool1(x)\n",
        "        x = self.convblock4(x)\n",
        "        x = self.convblock5(x)\n",
        "        x = self.convblock6(x)\n",
        "        x = self.convblock7(x)\n",
        "        x = self.convblock8(x)\n",
        "        x = self.gap(x)\n",
        "        x = x.view(-1, 10)\n",
        "        return F.log_softmax(x, dim=-1)"
      ],
      "execution_count": 19,
      "outputs": []
    },
    {
      "cell_type": "markdown",
      "metadata": {
        "id": "M3-vp8X9LCWo"
      },
      "source": [
        "# Model Params\n",
        "Can't emphasize on how important viewing Model Summary is. \n",
        "Unfortunately, there is no in-built model visualizer, so we have to take external help"
      ]
    },
    {
      "cell_type": "code",
      "metadata": {
        "id": "5skB97zIJQQe",
        "colab": {
          "base_uri": "https://localhost:8080/"
        },
        "outputId": "77a1c2cf-a597-4719-d054-36307ff5517c"
      },
      "source": [
        "!pip install torchsummary\n",
        "from torchsummary import summary\n",
        "use_cuda = torch.cuda.is_available()\n",
        "device = torch.device(\"cuda\" if use_cuda else \"cpu\")\n",
        "print(device)\n",
        "model = Net().to(device)\n",
        "summary(model, input_size=(1, 28, 28))"
      ],
      "execution_count": 20,
      "outputs": [
        {
          "output_type": "stream",
          "text": [
            "Requirement already satisfied: torchsummary in /usr/local/lib/python3.6/dist-packages (1.5.1)\n",
            "cuda\n",
            "----------------------------------------------------------------\n",
            "        Layer (type)               Output Shape         Param #\n",
            "================================================================\n",
            "            Conv2d-1           [-1, 10, 26, 26]              90\n",
            "           Dropout-2           [-1, 10, 26, 26]               0\n",
            "       BatchNorm2d-3           [-1, 10, 26, 26]              20\n",
            "              ReLU-4           [-1, 10, 26, 26]               0\n",
            "            Conv2d-5           [-1, 12, 24, 24]           1,080\n",
            "           Dropout-6           [-1, 12, 24, 24]               0\n",
            "       BatchNorm2d-7           [-1, 12, 24, 24]              24\n",
            "              ReLU-8           [-1, 12, 24, 24]               0\n",
            "            Conv2d-9           [-1, 10, 22, 22]           1,080\n",
            "          Dropout-10           [-1, 10, 22, 22]               0\n",
            "      BatchNorm2d-11           [-1, 10, 22, 22]              20\n",
            "             ReLU-12           [-1, 10, 22, 22]               0\n",
            "        MaxPool2d-13           [-1, 10, 11, 11]               0\n",
            "           Conv2d-14           [-1, 13, 11, 11]             130\n",
            "          Dropout-15           [-1, 13, 11, 11]               0\n",
            "      BatchNorm2d-16           [-1, 13, 11, 11]              26\n",
            "             ReLU-17           [-1, 13, 11, 11]               0\n",
            "           Conv2d-18             [-1, 13, 9, 9]           1,521\n",
            "          Dropout-19             [-1, 13, 9, 9]               0\n",
            "      BatchNorm2d-20             [-1, 13, 9, 9]              26\n",
            "             ReLU-21             [-1, 13, 9, 9]               0\n",
            "           Conv2d-22             [-1, 10, 7, 7]           1,170\n",
            "          Dropout-23             [-1, 10, 7, 7]               0\n",
            "      BatchNorm2d-24             [-1, 10, 7, 7]              20\n",
            "             ReLU-25             [-1, 10, 7, 7]               0\n",
            "           Conv2d-26             [-1, 20, 5, 5]           1,800\n",
            "          Dropout-27             [-1, 20, 5, 5]               0\n",
            "      BatchNorm2d-28             [-1, 20, 5, 5]              40\n",
            "             ReLU-29             [-1, 20, 5, 5]               0\n",
            "           Conv2d-30             [-1, 10, 3, 3]           1,800\n",
            "          Dropout-31             [-1, 10, 3, 3]               0\n",
            "      BatchNorm2d-32             [-1, 10, 3, 3]              20\n",
            "             ReLU-33             [-1, 10, 3, 3]               0\n",
            "        AvgPool2d-34             [-1, 10, 1, 1]               0\n",
            "================================================================\n",
            "Total params: 8,867\n",
            "Trainable params: 8,867\n",
            "Non-trainable params: 0\n",
            "----------------------------------------------------------------\n",
            "Input size (MB): 0.00\n",
            "Forward/backward pass size (MB): 0.69\n",
            "Params size (MB): 0.03\n",
            "Estimated Total Size (MB): 0.72\n",
            "----------------------------------------------------------------\n"
          ],
          "name": "stdout"
        }
      ]
    },
    {
      "cell_type": "markdown",
      "metadata": {
        "id": "1__x_SbrL7z3"
      },
      "source": [
        "# Training and Testing\n",
        "\n",
        "Looking at logs can be boring, so we'll introduce **tqdm** progressbar to get cooler logs. \n",
        "\n",
        "Let's write train and test functions"
      ]
    },
    {
      "cell_type": "code",
      "metadata": {
        "id": "fbkF2nN_LYIb"
      },
      "source": [
        "train_losses = []\n",
        "test_losses = []\n",
        "train_acc = []\n",
        "test_acc = []\n",
        "\n",
        "def train(model, device, train_loader, optimizer, epoch):\n",
        "  model.train()\n",
        "  correct = 0\n",
        "  processed = 0\n",
        "  for batch_idx, (data, target) in enumerate(train_loader):\n",
        "    # get samples\n",
        "    data, target = data.to(device), target.to(device)\n",
        "\n",
        "    # Init\n",
        "    optimizer.zero_grad()\n",
        "    # In PyTorch, we need to set the gradients to zero before starting to do backpropragation because PyTorch accumulates the gradients on subsequent backward passes. \n",
        "    # Because of this, when you start your training loop, ideally you should zero out the gradients so that you do the parameter update correctly.\n",
        "\n",
        "    # Predict\n",
        "    y_pred = model(data)\n",
        "\n",
        "    # Calculate loss\n",
        "    loss = F.nll_loss(y_pred, target)\n",
        "    train_losses.append(loss)\n",
        "\n",
        "    # Backpropagation\n",
        "    loss.backward()\n",
        "    optimizer.step()\n",
        "\n",
        "    # Update pbar-tqdm\n",
        "    \n",
        "    pred = y_pred.argmax(dim=1, keepdim=True)  # get the index of the max log-probability\n",
        "    correct += pred.eq(target.view_as(pred)).sum().item()\n",
        "    processed += len(data)\n",
        "    description = 'Loss={:.4f} Batch_id={} Accuracy={:.2f}'.format(loss.item(), batch_idx, 100*correct/processed)\n",
        "    train_acc.append(100*correct/processed)\n",
        "  print(description)\n",
        "\n",
        "def test(model, device, test_loader):\n",
        "    model.eval()\n",
        "    test_loss = 0\n",
        "    correct = 0\n",
        "    with torch.no_grad():\n",
        "        for data, target in test_loader:\n",
        "            data, target = data.to(device), target.to(device)\n",
        "            output = model(data)\n",
        "            test_loss += F.nll_loss(output, target, reduction='sum').item()  # sum up batch loss\n",
        "            pred = output.argmax(dim=1, keepdim=True)  # get the index of the max log-probability\n",
        "            correct += pred.eq(target.view_as(pred)).sum().item()\n",
        "\n",
        "    test_loss /= len(test_loader.dataset)\n",
        "    test_losses.append(test_loss)\n",
        "\n",
        "    print('\\nTest set: Average loss: {:.4f}, Accuracy: {}/{} ({:.2f}%)\\n'.format(\n",
        "        test_loss, correct, len(test_loader.dataset),\n",
        "        100. * correct / len(test_loader.dataset)))\n",
        "    \n",
        "    test_acc.append(100. * correct / len(test_loader.dataset))\n",
        "    return test_loss"
      ],
      "execution_count": 27,
      "outputs": []
    },
    {
      "cell_type": "markdown",
      "metadata": {
        "id": "drokW8wWODKq"
      },
      "source": [
        "# Let's Train and test our model"
      ]
    },
    {
      "cell_type": "code",
      "metadata": {
        "id": "xMCFxeAKOB53",
        "colab": {
          "base_uri": "https://localhost:8080/"
        },
        "outputId": "4629fe31-6c63-4269-8317-f2e3ea604783"
      },
      "source": [
        "model =  Net().to(device)\n",
        "optimizer = optim.SGD(model.parameters(), lr=0.1, momentum=0.9)\n",
        "scheduler = optim.lr_scheduler.ReduceLROnPlateau(optimizer, verbose=True, patience=1)\n",
        "\n",
        "EPOCHS = 15\n",
        "for epoch in range(EPOCHS):\n",
        "    print(\"EPOCH:\", epoch)\n",
        "    print('Learning rate: ', optimizer.param_groups[0]['lr'])\n",
        "    train(model, device, train_loader, optimizer, epoch)\n",
        "    loss = test(model, device, test_loader)\n",
        "    scheduler.step(loss)"
      ],
      "execution_count": 29,
      "outputs": [
        {
          "output_type": "stream",
          "text": [
            "EPOCH: 0\n",
            "Learning rate:  0.1\n",
            "Loss=0.0427 Batch_id=468 Accuracy=95.05\n",
            "\n",
            "Test set: Average loss: 0.0626, Accuracy: 9811/10000 (98.11%)\n",
            "\n",
            "EPOCH: 1\n",
            "Learning rate:  0.1\n",
            "Loss=0.0118 Batch_id=468 Accuracy=97.85\n",
            "\n",
            "Test set: Average loss: 0.0421, Accuracy: 9865/10000 (98.65%)\n",
            "\n",
            "EPOCH: 2\n",
            "Learning rate:  0.1\n",
            "Loss=0.0269 Batch_id=468 Accuracy=98.09\n",
            "\n",
            "Test set: Average loss: 0.0288, Accuracy: 9906/10000 (99.06%)\n",
            "\n",
            "EPOCH: 3\n",
            "Learning rate:  0.1\n",
            "Loss=0.0217 Batch_id=468 Accuracy=98.33\n",
            "\n",
            "Test set: Average loss: 0.0296, Accuracy: 9901/10000 (99.01%)\n",
            "\n",
            "EPOCH: 4\n",
            "Learning rate:  0.1\n",
            "Loss=0.0680 Batch_id=468 Accuracy=98.52\n",
            "\n",
            "Test set: Average loss: 0.0248, Accuracy: 9908/10000 (99.08%)\n",
            "\n",
            "EPOCH: 5\n",
            "Learning rate:  0.1\n",
            "Loss=0.0055 Batch_id=468 Accuracy=98.60\n",
            "\n",
            "Test set: Average loss: 0.0293, Accuracy: 9908/10000 (99.08%)\n",
            "\n",
            "EPOCH: 6\n",
            "Learning rate:  0.1\n",
            "Loss=0.0146 Batch_id=468 Accuracy=98.64\n",
            "\n",
            "Test set: Average loss: 0.0230, Accuracy: 9920/10000 (99.20%)\n",
            "\n",
            "EPOCH: 7\n",
            "Learning rate:  0.1\n",
            "Loss=0.0170 Batch_id=468 Accuracy=98.67\n",
            "\n",
            "Test set: Average loss: 0.0264, Accuracy: 9915/10000 (99.15%)\n",
            "\n",
            "EPOCH: 8\n",
            "Learning rate:  0.1\n",
            "Loss=0.0233 Batch_id=468 Accuracy=98.83\n",
            "\n",
            "Test set: Average loss: 0.0255, Accuracy: 9913/10000 (99.13%)\n",
            "\n",
            "Epoch     9: reducing learning rate of group 0 to 1.0000e-02.\n",
            "EPOCH: 9\n",
            "Learning rate:  0.010000000000000002\n",
            "Loss=0.0542 Batch_id=468 Accuracy=98.91\n",
            "\n",
            "Test set: Average loss: 0.0164, Accuracy: 9949/10000 (99.49%)\n",
            "\n",
            "EPOCH: 10\n",
            "Learning rate:  0.010000000000000002\n",
            "Loss=0.0148 Batch_id=468 Accuracy=99.08\n",
            "\n",
            "Test set: Average loss: 0.0160, Accuracy: 9947/10000 (99.47%)\n",
            "\n",
            "EPOCH: 11\n",
            "Learning rate:  0.010000000000000002\n",
            "Loss=0.0123 Batch_id=468 Accuracy=99.09\n",
            "\n",
            "Test set: Average loss: 0.0168, Accuracy: 9946/10000 (99.46%)\n",
            "\n",
            "EPOCH: 12\n",
            "Learning rate:  0.010000000000000002\n",
            "Loss=0.0352 Batch_id=468 Accuracy=99.07\n",
            "\n",
            "Test set: Average loss: 0.0161, Accuracy: 9944/10000 (99.44%)\n",
            "\n",
            "Epoch    13: reducing learning rate of group 0 to 1.0000e-03.\n",
            "EPOCH: 13\n",
            "Learning rate:  0.0010000000000000002\n",
            "Loss=0.0137 Batch_id=468 Accuracy=99.11\n",
            "\n",
            "Test set: Average loss: 0.0167, Accuracy: 9942/10000 (99.42%)\n",
            "\n",
            "EPOCH: 14\n",
            "Learning rate:  0.0010000000000000002\n",
            "Loss=0.0157 Batch_id=468 Accuracy=99.15\n",
            "\n",
            "Test set: Average loss: 0.0155, Accuracy: 9948/10000 (99.48%)\n",
            "\n"
          ],
          "name": "stdout"
        }
      ]
    },
    {
      "cell_type": "code",
      "metadata": {
        "id": "87RaqGSEOWDe",
        "colab": {
          "base_uri": "https://localhost:8080/",
          "height": 624
        },
        "outputId": "03b56db0-200b-4538-8cc9-79157e670e05"
      },
      "source": [
        "import matplotlib.pyplot as plt\n",
        "fig, axs = plt.subplots(2,2,figsize=(15,10))\n",
        "axs[0, 0].plot(train_losses)\n",
        "axs[0, 0].set_title(\"Training Loss\")\n",
        "axs[1, 0].plot(train_acc)\n",
        "axs[1, 0].set_title(\"Training Accuracy\")\n",
        "axs[0, 1].plot(test_losses)\n",
        "axs[0, 1].set_title(\"Test Loss\")\n",
        "axs[1, 1].plot(test_acc)\n",
        "axs[1, 1].set_title(\"Test Accuracy\")"
      ],
      "execution_count": 30,
      "outputs": [
        {
          "output_type": "execute_result",
          "data": {
            "text/plain": [
              "Text(0.5, 1.0, 'Test Accuracy')"
            ]
          },
          "metadata": {
            "tags": []
          },
          "execution_count": 30
        },
        {
          "output_type": "display_data",
          "data": {
            "image/png": "[encoded data removed]",
            "text/plain": [
              "<Figure size 1080x720 with 4 Axes>"
            ]
          },
          "metadata": {
            "tags": [],
            "needs_background": "light"
          }
        }
      ]
    }
  ]
}